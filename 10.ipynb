{
 "cells": [
  {
   "cell_type": "code",
   "execution_count": 31,
   "metadata": {},
   "outputs": [
    {
     "name": "stdout",
     "output_type": "stream",
     "text": [
      "0 inf\n",
      "1 1\n",
      "4 3\n",
      "5 1\n",
      "6 1\n",
      "7 1\n",
      "10 3\n",
      "11 1\n",
      "12 1\n",
      "15 3\n",
      "16 1\n",
      "19 3\n",
      "22 3\n",
      "[(0, inf), (1, 1), (4, 3), (5, 1), (6, 1), (7, 1), (10, 3), (11, 1), (12, 1), (15, 3), (16, 1), (19, 3), (22, 3)]\n"
     ]
    }
   ],
   "source": [
    "with open('10-small.txt') as f:\n",
    "    adapters = sorted([int(s) for s in f.read().split()])\n",
    "adapters = [0] + adapters + [max(adapters)+3]\n",
    "\n",
    "# is_valid(seq)\n",
    "# Split big sequence by 3-s\n",
    "# Calculate the options for each 1 sequence\n",
    "\n",
    "def delta(adapters, index):\n",
    "    if index == 0:\n",
    "        return float('inf')\n",
    "    else:\n",
    "        return adapters[index]-adapters[index-1]\n",
    "\n",
    "\n",
    "adapters_and_deltas = [(adapters[i], delta(adapters, i)) for i in range(len(adapters))]\n",
    "\n",
    "def print_adapters(adapters):\n",
    "    for i in range(len(adapters)):\n",
    "        print(adapters[i], delta(adapters, i))\n",
    "\n",
    "print_adapters(adapters)\n",
    "print(adapters_and_deltas)"
   ]
  },
  {
   "cell_type": "code",
   "execution_count": 39,
   "metadata": {},
   "outputs": [
    {
     "name": "stdout",
     "output_type": "stream",
     "text": [
      "[(), (0,), (1,), (2,), (0, 1), (0, 2), (1, 2), (0, 1, 2)]\n"
     ]
    }
   ],
   "source": [
    "from itertools import combinations, chain\n",
    "\n",
    "s=list(range(3))\n",
    "\n",
    "chain.from_iterable(combinations(s, l) for l in range(len(s)))\n",
    "\n",
    "def powerset(iterable):\n",
    "    \"powerset([1,2,3]) --> () (1,) (2,) (3,) (1,2) (1,3) (2,3) (1,2,3)\"\n",
    "    s = list(iterable)\n",
    "    return chain.from_iterable(combinations(s, r) for r in range(len(s)+1))\n",
    "\n",
    "print(list(powerset(s)))"
   ]
  },
  {
   "cell_type": "code",
   "execution_count": null,
   "metadata": {},
   "outputs": [],
   "source": []
  },
  {
   "cell_type": "code",
   "execution_count": null,
   "metadata": {},
   "outputs": [],
   "source": []
  }
 ],
 "metadata": {
  "kernelspec": {
   "display_name": "Python 3",
   "language": "python",
   "name": "python3"
  },
  "language_info": {
   "codemirror_mode": {
    "name": "ipython",
    "version": 3
   },
   "file_extension": ".py",
   "mimetype": "text/x-python",
   "name": "python",
   "nbconvert_exporter": "python",
   "pygments_lexer": "ipython3",
   "version": "3.8.5"
  }
 },
 "nbformat": 4,
 "nbformat_minor": 4
}
