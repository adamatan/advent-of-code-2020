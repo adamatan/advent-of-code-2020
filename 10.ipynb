{
 "cells": [
  {
   "cell_type": "code",
   "execution_count": 22,
   "metadata": {},
   "outputs": [
    {
     "name": "stdout",
     "output_type": "stream",
     "text": [
      "1 1\n",
      "4 3\n",
      "5 1\n",
      "6 1\n",
      "7 1\n",
      "10 3\n",
      "11 1\n",
      "12 1\n",
      "15 3\n",
      "16 1\n",
      "19 3\n",
      "22 3\n"
     ]
    }
   ],
   "source": [
    "with open('10-small.txt') as f:\n",
    "    adapters = sorted([int(s) for s in f.read().split()])\n",
    "adapters = [0] + adapters + [max(adapters)+3]\n",
    "\n",
    "def delta(adapters, index):\n",
    "    if index == 0:\n",
    "        return float('inf')\n",
    "    else:\n",
    "        return adapters[index]-adapters[index-1]\n",
    "    \n",
    "def print_adapters(adapters):\n",
    "    for i in range(1, len(adapters)):\n",
    "        print(adapters[i], delta(adapters, i))\n",
    "\n",
    "print_adapters(adapters)"
   ]
  }
 ],
 "metadata": {
  "kernelspec": {
   "display_name": "Python 3",
   "language": "python",
   "name": "python3"
  },
  "language_info": {
   "codemirror_mode": {
    "name": "ipython",
    "version": 3
   },
   "file_extension": ".py",
   "mimetype": "text/x-python",
   "name": "python",
   "nbconvert_exporter": "python",
   "pygments_lexer": "ipython3",
   "version": "3.8.5"
  }
 },
 "nbformat": 4,
 "nbformat_minor": 4
}
